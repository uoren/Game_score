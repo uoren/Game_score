{
 "cells": [
  {
   "cell_type": "code",
   "execution_count": null,
   "id": "d1c6caea",
   "metadata": {},
   "outputs": [],
   "source": [
    "import numpy as np\n",
    "\n",
    "def score_game(game_score):\n",
    "    count_ls = []  # Создаем лист, где будут хранитьс количество попыток\n",
    "    np.random.seed(1) # Создаем массив, созданный слуайными ислами\n",
    "    random_arrey = np.random.randint(1, 101, size=(1000))\n",
    "    for number in random_arrey:\n",
    "        count_ls.append(game_score(number))\n",
    "        \n",
    "    score = round(np.mean(count_ls))\n",
    "    print(f\"Your algorithm guesses the average number per {score} attempts\")\n",
    "    \n",
    "def game_score(number): # Данный вариант основан на бинарном поиске\n",
    "\n",
    "    count = 1\n",
    "    minimum = 1\n",
    "    maimum = 101\n",
    "    \n",
    "    predict = (maimum + minimum) // 2 #Находим середину отсортированного массива\n",
    "    \n",
    "    while number != predict: #Сравниваем середину с искомым знаением\n",
    "        count += 1 # Увелииваем счетик попыток на 1, елси не угадали число\n",
    "        if number > predict: # Отсеиваем ненужную половину\n",
    "            minimum = predict\n",
    "        else:\n",
    "            maimum = predict\n",
    "            \n",
    "        predict = (maximum + minimum) // 2 #Повторяем операцию уже с новыми границами\n",
    "        \n",
    "    return count #Возвращаем число попыток, за которое угадали \n",
    "\n",
    "score_game(game_score)"
   ]
  },
  {
   "cell_type": "code",
   "execution_count": null,
   "id": "023dbdcd",
   "metadata": {},
   "outputs": [],
   "source": []
  }
 ],
 "metadata": {
  "kernelspec": {
   "display_name": "Python 3",
   "language": "python",
   "name": "python3"
  },
  "language_info": {
   "codemirror_mode": {
    "name": "ipython",
    "version": 3
   },
   "file_extension": ".py",
   "mimetype": "text/x-python",
   "name": "python",
   "nbconvert_exporter": "python",
   "pygments_lexer": "ipython3",
   "version": "3.8.8"
  }
 },
 "nbformat": 4,
 "nbformat_minor": 5
}
